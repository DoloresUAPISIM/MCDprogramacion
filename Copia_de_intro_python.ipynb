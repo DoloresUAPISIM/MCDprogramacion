{
  "cells": [
    {
      "cell_type": "markdown",
      "metadata": {
        "id": "view-in-github",
        "colab_type": "text"
      },
      "source": [
        "<a href=\"https://colab.research.google.com/github/DoloresUAPISIM/MCDprogramacion/blob/main/Copia_de_intro_python.ipynb\" target=\"_parent\"><img src=\"https://colab.research.google.com/assets/colab-badge.svg\" alt=\"Open In Colab\"/></a>"
      ]
    },
    {
      "cell_type": "markdown",
      "metadata": {
        "id": "pDwOebvJZCJc"
      },
      "source": [
        "<a href=\"https://colab.research.google.com/github/mcd-unison/material-programacion/blob/main/intro-python.ipynb\" target=\"_parent\"><img src=\"https://colab.research.google.com/assets/colab-badge.svg\" alt=\"Open In Colab\"/></a>"
      ]
    },
    {
      "cell_type": "markdown",
      "metadata": {
        "id": "6UAq0LjnZCJh"
      },
      "source": [
        "<center>\n",
        "<p><img src=\"https://mcd.unison.mx/wp-content/themes/awaken/img/logo_mcd.png\" width=\"100\">\n",
        "</p>\n",
        "\n",
        "\n",
        "\n",
        "# Curso Propedéutico en *Programación*\n",
        "\n",
        "## Introducción a `python` resolviendo preguntas\n",
        "\n",
        "\n",
        "**Julio Waissman Vilanova**\n",
        "\n"
      ]
    },
    {
      "cell_type": "markdown",
      "metadata": {
        "id": "zVv64wDqZCJi"
      },
      "source": [
        "### Tipos\n",
        "\n",
        "¿Cuales son los tipos de datos básicos? Revisa los tipos siguientes:\n",
        "\n",
        "1. Tipos numéricos `int`, `float`, `complex`\n",
        "2. Cadenas de caracteres\n",
        "3. Tuplas\n",
        "4. Listas\n",
        "5. Diccionarios\n",
        "6. Conjuntos\n",
        "\n",
        "Da ejemplo de sobrecarga de operadores (en particular `+` y `*`)\n",
        "\n"
      ]
    },
    {
      "cell_type": "code",
      "source": [
        "class Vector:\n",
        "    def __init__(self, x, y, z):\n",
        "        self.x = x\n",
        "        self.y = y\n",
        "        self.z = z\n",
        "\n",
        "    def __add__(self, v):\n",
        "        sumax = self.x + v.x\n",
        "        sumay = self.y + v.y\n",
        "        sumaz = self.z + v.z\n",
        "        vectorsuma = Vector(sumax, sumay, sumaz)\n",
        "        return vectorsuma\n",
        "\n",
        "    def __mul__(self, v):\n",
        "        productox = self.x * v.x\n",
        "        productoy = self.y * v.y\n",
        "        productoz = self.z * v.z\n",
        "        vectorproducto = Vector(productox, productoy, productoz)\n",
        "        return vectorproducto"
      ],
      "metadata": {
        "id": "VaSN7Tisppb3"
      },
      "execution_count": 1,
      "outputs": []
    },
    {
      "cell_type": "code",
      "source": [
        "v1 = Vector(1, 1, 2)\n",
        "v2 = Vector (5, -3, 3)\n",
        "vectorsuma = v1 + v2\n",
        "vectorsuma.x\n",
        "vectorsuma.y\n",
        "vectorsuma.z"
      ],
      "metadata": {
        "colab": {
          "base_uri": "https://localhost:8080/"
        },
        "id": "TGyCQsYLpynb",
        "outputId": "013656fb-9066-4132-a552-ad64e0b65569"
      },
      "execution_count": 2,
      "outputs": [
        {
          "output_type": "execute_result",
          "data": {
            "text/plain": [
              "5"
            ]
          },
          "metadata": {},
          "execution_count": 2
        }
      ]
    },
    {
      "cell_type": "markdown",
      "source": [
        "Listas: son estructuras de datos que se utilizan para almacenar una colección de datos de cualquier tipo."
      ],
      "metadata": {
        "id": "FY0tzRKdd20y"
      }
    },
    {
      "cell_type": "code",
      "source": [
        "l = [2, 3.14, \"toto\", [2,5,8]]\n",
        "print (l)"
      ],
      "metadata": {
        "id": "tKBkq7tAeJVC",
        "outputId": "5a187f92-a360-4e41-fbd4-5cf0fbf690c9",
        "colab": {
          "base_uri": "https://localhost:8080/"
        }
      },
      "execution_count": null,
      "outputs": [
        {
          "output_type": "stream",
          "name": "stdout",
          "text": [
            "[2, 3.14, 'toto', [2, 5, 8]]\n"
          ]
        }
      ]
    },
    {
      "cell_type": "markdown",
      "source": [
        "Primer elemento de la lista"
      ],
      "metadata": {
        "id": "4QtSFwyLfWFQ"
      }
    },
    {
      "cell_type": "code",
      "source": [
        "l[0]\n"
      ],
      "metadata": {
        "id": "4ZP_74BHet2Z",
        "outputId": "62bfd4d0-d3e6-4d8f-9beb-b6ae0ddc777f",
        "colab": {
          "base_uri": "https://localhost:8080/"
        }
      },
      "execution_count": null,
      "outputs": [
        {
          "output_type": "execute_result",
          "data": {
            "text/plain": [
              "2"
            ]
          },
          "metadata": {},
          "execution_count": 16
        }
      ]
    },
    {
      "cell_type": "markdown",
      "source": [
        "último elemento de la lista"
      ],
      "metadata": {
        "id": "T-Zsm800ffFX"
      }
    },
    {
      "cell_type": "code",
      "source": [
        "l[-1]"
      ],
      "metadata": {
        "id": "SOttF-mFfiS5",
        "outputId": "36a189ca-d8da-42b0-f5bb-c90b65f8fafa",
        "colab": {
          "base_uri": "https://localhost:8080/"
        }
      },
      "execution_count": null,
      "outputs": [
        {
          "output_type": "execute_result",
          "data": {
            "text/plain": [
              "[2, 5, 8]"
            ]
          },
          "metadata": {},
          "execution_count": 17
        }
      ]
    },
    {
      "cell_type": "code",
      "source": [
        "l[-1][0]\n",
        "l[-2]\n",
        "l[-2][1]"
      ],
      "metadata": {
        "id": "RQXIf_EMfuJW",
        "outputId": "b2257592-61d4-48ee-9b73-bf915da62b4b",
        "colab": {
          "base_uri": "https://localhost:8080/",
          "height": 35
        }
      },
      "execution_count": null,
      "outputs": [
        {
          "output_type": "execute_result",
          "data": {
            "text/plain": [
              "'o'"
            ],
            "application/vnd.google.colaboratory.intrinsic+json": {
              "type": "string"
            }
          },
          "metadata": {},
          "execution_count": 22
        }
      ]
    },
    {
      "cell_type": "markdown",
      "source": [
        "Todos los datos menos el último"
      ],
      "metadata": {
        "id": "PpE48oPXiPXA"
      }
    },
    {
      "cell_type": "code",
      "source": [
        "l[:-1]"
      ],
      "metadata": {
        "id": "nHFB4Oe_iUUX",
        "outputId": "378a7714-7b88-4f2a-f5f6-17812ea63afc",
        "colab": {
          "base_uri": "https://localhost:8080/"
        }
      },
      "execution_count": null,
      "outputs": [
        {
          "output_type": "execute_result",
          "data": {
            "text/plain": [
              "[2, 3.14, 'toto']"
            ]
          },
          "metadata": {},
          "execution_count": 23
        }
      ]
    },
    {
      "cell_type": "code",
      "source": [
        "l[0:2]"
      ],
      "metadata": {
        "id": "ZV4vctxRisKf",
        "outputId": "6cee58a2-c668-4a4b-ea33-90873bbfa8cb",
        "colab": {
          "base_uri": "https://localhost:8080/"
        }
      },
      "execution_count": null,
      "outputs": [
        {
          "output_type": "execute_result",
          "data": {
            "text/plain": [
              "[2, 3.14]"
            ]
          },
          "metadata": {},
          "execution_count": 24
        }
      ]
    },
    {
      "cell_type": "code",
      "source": [
        "l[:2] + l[2:]\n",
        "l[:2] + l[4:]"
      ],
      "metadata": {
        "id": "_b2zDSmCi8x3",
        "outputId": "ebd889ef-63d8-4c42-a621-35874e3e3da8",
        "colab": {
          "base_uri": "https://localhost:8080/"
        }
      },
      "execution_count": null,
      "outputs": [
        {
          "output_type": "execute_result",
          "data": {
            "text/plain": [
              "[2, 3.14]"
            ]
          },
          "metadata": {},
          "execution_count": 28
        }
      ]
    },
    {
      "cell_type": "code",
      "source": [
        "l.append(2)"
      ],
      "metadata": {
        "id": "MoZFoQ1Mj51s"
      },
      "execution_count": null,
      "outputs": []
    },
    {
      "cell_type": "code",
      "source": [
        "l.count(2)"
      ],
      "metadata": {
        "id": "Nw0n0WgElH4B",
        "outputId": "d4e78c20-96d5-4897-f95a-8148a624effc",
        "colab": {
          "base_uri": "https://localhost:8080/"
        }
      },
      "execution_count": null,
      "outputs": [
        {
          "output_type": "execute_result",
          "data": {
            "text/plain": [
              "2"
            ]
          },
          "metadata": {},
          "execution_count": 36
        }
      ]
    },
    {
      "cell_type": "code",
      "source": [
        "l.pop()"
      ],
      "metadata": {
        "id": "idnMAjl-l4un",
        "outputId": "bd59b617-b105-4207-ec05-479dca790479",
        "colab": {
          "base_uri": "https://localhost:8080/"
        }
      },
      "execution_count": null,
      "outputs": [
        {
          "output_type": "execute_result",
          "data": {
            "text/plain": [
              "2"
            ]
          },
          "metadata": {},
          "execution_count": 66
        }
      ]
    },
    {
      "cell_type": "code",
      "source": [
        "l"
      ],
      "metadata": {
        "id": "Un_Ag522kK7l",
        "outputId": "7ee81396-ae1f-4d88-e60a-8321cea72f57",
        "colab": {
          "base_uri": "https://localhost:8080/"
        }
      },
      "execution_count": null,
      "outputs": [
        {
          "output_type": "execute_result",
          "data": {
            "text/plain": [
              "[2, 3.14, 'toto', [2, 5, 8]]"
            ]
          },
          "metadata": {},
          "execution_count": 62
        }
      ]
    },
    {
      "cell_type": "markdown",
      "source": [
        "diccionario"
      ],
      "metadata": {
        "id": "kXjKOAbdotTp"
      }
    },
    {
      "cell_type": "code",
      "source": [
        "d = {'a': l, 3:90}"
      ],
      "metadata": {
        "id": "kkQermCaqDTO"
      },
      "execution_count": null,
      "outputs": []
    },
    {
      "cell_type": "code",
      "source": [
        "d"
      ],
      "metadata": {
        "id": "ivx_YnCeqZK-",
        "outputId": "02af295c-e520-4128-fb64-825e823b21a6",
        "colab": {
          "base_uri": "https://localhost:8080/"
        }
      },
      "execution_count": null,
      "outputs": [
        {
          "output_type": "execute_result",
          "data": {
            "text/plain": [
              "{'a': [2, 3.14, 'toto', [2, 5, 8]], 3: 90}"
            ]
          },
          "metadata": {},
          "execution_count": 71
        }
      ]
    },
    {
      "cell_type": "code",
      "source": [
        "d.keys()"
      ],
      "metadata": {
        "id": "MSHidx55riTT",
        "outputId": "c78e7de1-dcfc-4802-bfb4-23b47c74288d",
        "colab": {
          "base_uri": "https://localhost:8080/"
        }
      },
      "execution_count": null,
      "outputs": [
        {
          "output_type": "execute_result",
          "data": {
            "text/plain": [
              "dict_keys(['a', 3])"
            ]
          },
          "metadata": {},
          "execution_count": 72
        }
      ]
    },
    {
      "cell_type": "code",
      "source": [
        "d.values()"
      ],
      "metadata": {
        "id": "uafSzV1Jrrtx",
        "outputId": "bee80091-22bc-475e-c5aa-7374289302fd",
        "colab": {
          "base_uri": "https://localhost:8080/"
        }
      },
      "execution_count": null,
      "outputs": [
        {
          "output_type": "execute_result",
          "data": {
            "text/plain": [
              "dict_values([[2, 3.14, 'toto', [2, 5, 8]], 90])"
            ]
          },
          "metadata": {},
          "execution_count": 73
        }
      ]
    },
    {
      "cell_type": "code",
      "source": [
        "d.items()"
      ],
      "metadata": {
        "id": "jfoUXAnQsg0A",
        "outputId": "a7fe32e8-cca0-465f-8113-3f5b8c3b7cce",
        "colab": {
          "base_uri": "https://localhost:8080/"
        }
      },
      "execution_count": null,
      "outputs": [
        {
          "output_type": "execute_result",
          "data": {
            "text/plain": [
              "dict_items([('a', [2, 3.14, 'toto', [2, 5, 8]]), (3, 90)])"
            ]
          },
          "metadata": {},
          "execution_count": 78
        }
      ]
    },
    {
      "cell_type": "code",
      "source": [
        "d[3]\n",
        "d['a']"
      ],
      "metadata": {
        "id": "Is8PAZrDr6ex",
        "outputId": "9a71d60d-9793-425f-8967-c728fefa7a20",
        "colab": {
          "base_uri": "https://localhost:8080/"
        }
      },
      "execution_count": null,
      "outputs": [
        {
          "output_type": "execute_result",
          "data": {
            "text/plain": [
              "[2, 3.14, 'toto', [2, 5, 8]]"
            ]
          },
          "metadata": {},
          "execution_count": 80
        }
      ]
    },
    {
      "cell_type": "code",
      "source": [
        "d['toto'] = 30"
      ],
      "metadata": {
        "id": "gFeWwTRivj_R"
      },
      "execution_count": null,
      "outputs": []
    },
    {
      "cell_type": "code",
      "source": [
        "d"
      ],
      "metadata": {
        "id": "qKQBpzz2vxix",
        "outputId": "f06e32c5-5deb-41c5-9db9-5e15403b16c1",
        "colab": {
          "base_uri": "https://localhost:8080/"
        }
      },
      "execution_count": null,
      "outputs": [
        {
          "output_type": "execute_result",
          "data": {
            "text/plain": [
              "{'a': [2, 3.14, 'toto', [2, 5, 8]], 3: 90, 'toto': 30}"
            ]
          },
          "metadata": {},
          "execution_count": 82
        }
      ]
    },
    {
      "cell_type": "code",
      "source": [
        "d['toto']"
      ],
      "metadata": {
        "id": "Fw18h9CJwEAw",
        "outputId": "41956e78-188e-41a4-85e7-f0979b69cf3b",
        "colab": {
          "base_uri": "https://localhost:8080/"
        }
      },
      "execution_count": null,
      "outputs": [
        {
          "output_type": "execute_result",
          "data": {
            "text/plain": [
              "30"
            ]
          },
          "metadata": {},
          "execution_count": 83
        }
      ]
    },
    {
      "cell_type": "code",
      "source": [
        "d.get('toto',0)"
      ],
      "metadata": {
        "id": "3dMC266EwXAG",
        "outputId": "9f9085c5-5b43-439c-9556-b2d651b6ba44",
        "colab": {
          "base_uri": "https://localhost:8080/"
        }
      },
      "execution_count": null,
      "outputs": [
        {
          "output_type": "execute_result",
          "data": {
            "text/plain": [
              "30"
            ]
          },
          "metadata": {},
          "execution_count": 84
        }
      ]
    },
    {
      "cell_type": "markdown",
      "metadata": {
        "id": "O6brXFaVZCJk"
      },
      "source": [
        "¿Que significa que unos tipos sean *mutables* y otros *inmutables*?\n",
        "\n",
        "Realiza un pequeño programa donde quede claro lo que significa que un tipo de datos sea mutable, e ilustra el uso del método `copy.deepcopy()`."
      ]
    },
    {
      "cell_type": "code",
      "source": [
        "l"
      ],
      "metadata": {
        "id": "lB66UZCxEpBX",
        "outputId": "1737fee4-cd13-423b-c4e7-8b883d6c6e03",
        "colab": {
          "base_uri": "https://localhost:8080/"
        }
      },
      "execution_count": null,
      "outputs": [
        {
          "output_type": "execute_result",
          "data": {
            "text/plain": [
              "[2, 3.14, 'toto', [2, 5, 8]]"
            ]
          },
          "metadata": {},
          "execution_count": 129
        }
      ]
    },
    {
      "cell_type": "code",
      "execution_count": null,
      "metadata": {
        "id": "hyXO-fjpZCJk",
        "outputId": "6a9d0d01-a923-4abc-8bb0-635c717c43e8",
        "colab": {
          "base_uri": "https://localhost:8080/"
        }
      },
      "outputs": [
        {
          "output_type": "stream",
          "name": "stdout",
          "text": [
            "[2, 3.14, 'toto', [2, 5, 8], 1.44]\n",
            "[2, 3.14, 'toto', [2, 5, 8], 1.44]\n"
          ]
        }
      ],
      "source": [
        "l2 = l\n",
        "l2.append(1.44)\n",
        "\n",
        "print(l)\n",
        "print(l2)\n"
      ]
    },
    {
      "cell_type": "code",
      "source": [
        "import copy\n",
        "\n",
        "\n",
        "def pone(lista, valor):\n",
        "  lista2 = copy.deepcopy(lista)\n",
        "  lista2.append(valor)\n",
        "  return lista2"
      ],
      "metadata": {
        "id": "VeZfWIBN3KxX"
      },
      "execution_count": null,
      "outputs": []
    },
    {
      "cell_type": "code",
      "source": [
        "l2 = pone(l, 'titi')\n",
        "\n",
        "print(l)\n",
        "print(l2)"
      ],
      "metadata": {
        "id": "DHqgsh_B8pqi",
        "outputId": "2de1785e-d67c-4378-dd48-4c8d85aab876",
        "colab": {
          "base_uri": "https://localhost:8080/"
        }
      },
      "execution_count": null,
      "outputs": [
        {
          "output_type": "stream",
          "name": "stdout",
          "text": [
            "[2, 3.14, 'toto', [2, 5, 8], 1.44, 'titi', 'titi']\n",
            "[2, 3.14, 'toto', [2, 5, 8], 1.44, 'titi', 'titi', 'titi']\n"
          ]
        }
      ]
    },
    {
      "cell_type": "markdown",
      "metadata": {
        "id": "rp21KpJeZCJk"
      },
      "source": [
        "### *Comprehension* de listas, conjuntos y diccionarios\n",
        "\n",
        "Escribe, en una sola linea, una expresión que genere una lista con todos los números enteros que se encuentran entre $1$ y $n$\n",
        "que sean divisibles por $3$ y $7$ y que el dígito menos significativo del número sea $6$."
      ]
    },
    {
      "cell_type": "code",
      "execution_count": 3,
      "metadata": {
        "id": "zOw86nIbZCJl",
        "outputId": "2f8039d6-25ed-4e27-b61e-2089f9f5738c",
        "colab": {
          "base_uri": "https://localhost:8080/"
        }
      },
      "outputs": [
        {
          "output_type": "stream",
          "name": "stdout",
          "text": [
            "[126, 336, 546, 756, 966, 1176, 1386, 1596, 1806, 2016, 2226, 2436, 2646, 2856, 3066, 3276, 3486, 3696, 3906, 4116, 4326, 4536, 4746, 4956, 5166, 5376, 5586, 5796, 6006, 6216, 6426, 6636, 6846, 7056, 7266, 7476, 7686, 7896, 8106, 8316, 8526, 8736, 8946, 9156, 9366, 9576, 9786, 9996]\n"
          ]
        }
      ],
      "source": [
        "n = 10_000\n",
        "\n",
        "# Escribe aqui el *one linner*\n",
        "\n",
        "lista = [x\n",
        "   for x in range(1, n+1)\n",
        "     if x % 3 == 0 and x % 7 == 0 and x % 10 == 6\n",
        "     ]\n",
        "print(lista)"
      ]
    },
    {
      "cell_type": "markdown",
      "source": [
        "Ejemplo"
      ],
      "metadata": {
        "id": "Te0PXg3tqbmR"
      }
    },
    {
      "cell_type": "code",
      "source": [
        "n = 10_000\n",
        "\n",
        "# Escribe aqui el *one linner*\n",
        "lista = {x : x**(1/2)\n",
        "   for x in range(1, n+1)\n",
        "     if x % 3 == 0 and x % 7 == 0 and x % 10 == 6\n",
        "}\n",
        "print(lista)"
      ],
      "metadata": {
        "id": "UrbgaubLL7Y9",
        "outputId": "fd15c562-da88-42dd-89d7-df5457149dd3",
        "colab": {
          "base_uri": "https://localhost:8080/"
        }
      },
      "execution_count": null,
      "outputs": [
        {
          "output_type": "stream",
          "name": "stdout",
          "text": [
            "{126: 11.224972160321824, 336: 18.33030277982336, 546: 23.366642891095847, 756: 27.49545416973504, 966: 31.080540535840107, 1176: 34.292856398964496, 1386: 37.22902093797257, 1596: 39.949968710876355, 1806: 42.49705872175156, 2016: 44.8998886412873, 2226: 47.18050444834179, 2436: 49.35585071701227, 2646: 51.43928459844674, 2856: 53.44155686354955, 3066: 55.37147279962851, 3276: 57.23635208501674, 3486: 59.04235767650204, 3696: 60.794736614282655, 3906: 62.49799996799898, 4116: 64.15605972938177, 4326: 65.7723346096214, 4536: 67.34983296193094, 4746: 68.89121859859934, 4956: 70.39886362719217, 5166: 71.87489130426563, 5376: 73.32121111929344, 5586: 74.73954776421918, 5796: 76.13146524269712, 6006: 77.49838707999025, 6216: 78.8416133777081, 6426: 80.16233529532433, 6636: 81.4616474176652, 6846: 82.74055837375042, 7056: 84.0, 7266: 85.24083528450434, 7476: 86.46386528486914, 7686: 87.66983517721475, 7896: 88.85943956609225, 8106: 90.033327162779, 8316: 91.19210492142398, 8526: 92.33634170791044, 8736: 93.46657156438339, 8946: 94.58329662260668, 9156: 95.68698971124549, 9366: 96.77809669548166, 9576: 97.85703858180054, 9786: 98.92421341612983, 9996: 99.9799979995999}\n"
          ]
        }
      ]
    },
    {
      "cell_type": "code",
      "source": [
        "n = 10_000\n",
        "\n",
        "# Escribe aqui el *one linner*\n",
        "lista = [x\n",
        "   for x in range(1, n+1)\n",
        "     if x % 3 == 0 and x % 7 == 0 and x % 10 == 6\n",
        "     ]\n",
        "print(lista)"
      ],
      "metadata": {
        "id": "j08CrNzgRFgZ",
        "outputId": "a4299657-4889-4b9d-dab4-a8862e384ac8",
        "colab": {
          "base_uri": "https://localhost:8080/"
        }
      },
      "execution_count": null,
      "outputs": [
        {
          "output_type": "stream",
          "name": "stdout",
          "text": [
            "[126, 336, 546, 756, 966, 1176, 1386, 1596, 1806, 2016, 2226, 2436, 2646, 2856, 3066, 3276, 3486, 3696, 3906, 4116, 4326, 4536, 4746, 4956, 5166, 5376, 5586, 5796, 6006, 6216, 6426, 6636, 6846, 7056, 7266, 7476, 7686, 7896, 8106, 8316, 8526, 8736, 8946, 9156, 9366, 9576, 9786, 9996]\n"
          ]
        }
      ]
    },
    {
      "cell_type": "markdown",
      "metadata": {
        "id": "-KvU75E8ZCJm"
      },
      "source": [
        "### Funciones\n",
        "\n",
        "Escribe una función que:\n",
        "\n",
        "1. reciba una lista de elementos (letras, números, lo que sea),\n",
        "2. cuente la ocurrencia de cada elemento en la lista,\n",
        "3. devuelva las ocurrencias en forma de diccionario,\n",
        "4. si imprime es True, imprima un histograma de ocurrencias, por ejemplo:\n",
        "\n",
        "```python\n",
        "\n",
        "lista = [1,'a',1, 13, 'hola', 'a', 1, 1, 'a', 1]\n",
        "\n",
        "d = funcion_ejemplo(lista, imprime = True)\n",
        "\n",
        "1    \t\t***** \t(5 -> 50%)\n",
        "'a'  \t\t***   \t(3 -> 30%)\n",
        "13\t\t*\t(1 -> 10%)\n",
        "'hola'\t\t*\t(1 -> 10%)\n",
        "\n",
        "```"
      ]
    },
    {
      "cell_type": "markdown",
      "source": [
        "Ejercicio"
      ],
      "metadata": {
        "id": "onn4bZE1u2Fn"
      }
    },
    {
      "cell_type": "code",
      "source": [
        "from collections import Counter"
      ],
      "metadata": {
        "id": "cLAdWVvGwEq8"
      },
      "execution_count": 11,
      "outputs": []
    },
    {
      "cell_type": "code",
      "execution_count": 7,
      "metadata": {
        "id": "jcvGKrTwZCJn"
      },
      "outputs": [],
      "source": [
        "# Escribe la función aquí\n",
        "lista = [1,1,2,3,3,5,6,6,0,6]\n",
        "lista1 = list\n"
      ]
    },
    {
      "cell_type": "code",
      "execution_count": 13,
      "metadata": {
        "id": "uq__pkCNZCJn",
        "colab": {
          "base_uri": "https://localhost:8080/"
        },
        "outputId": "9393d2bb-9b82-4e98-d9a2-321e8a265512"
      },
      "outputs": [
        {
          "output_type": "stream",
          "name": "stdout",
          "text": [
            "[1, 1, 2, 3, 3, 5, 6, 6, 0, 6]\n",
            "Counter({6: 3, 1: 2, 3: 2, 2: 1, 5: 1, 0: 1})\n"
          ]
        }
      ],
      "source": [
        "# Realiza pruebas aquí\n",
        "frecuencia = Counter(lista)\n",
        "print(lista)\n",
        "print(cuentaN)"
      ]
    },
    {
      "cell_type": "markdown",
      "metadata": {
        "id": "uoTwMcfIZCJn"
      },
      "source": [
        "Escribe una función que modifique un diccionario y regrese el diccionario modificado y una copia del original, donde cada entrada\n",
        "del diccionario sea una lista de valores. Ten en cuenta que si una entrada del diccionario es de tipo mutable, al modificarlo en la\n",
        "copia se modifica el original. Utiliza el modulo `copy` para evitar este problema. Ejemplo de la función:\n",
        "\n",
        "```python\n",
        "dic1 = {'Pepe':[12, 'enero', 1980], 'Carolina':[15,'mayo',1975],'Paco':[10,'nov',1970]}\n",
        "dic2 = fundicos(dic1, 'Pepe', 1, 'febrero')\n",
        "\n",
        "print(dic1)\n",
        "{'Pepe':[12, 'enero', 1980], 'Carolina':[15,'mayo',1975],'Paco':[10,'nov',1970]}\n",
        "\n",
        "print(dic2)\n",
        "{'Pepe':[12, 'febrero', 1980], 'Carolina':[15,'mayo',1975],'Paco':[10,'nov',1970]}\n",
        "```"
      ]
    },
    {
      "cell_type": "code",
      "execution_count": null,
      "metadata": {
        "id": "YGvWSITIZCJo"
      },
      "outputs": [],
      "source": [
        "# Escribe la función fundicos aquí\n"
      ]
    },
    {
      "cell_type": "code",
      "execution_count": null,
      "metadata": {
        "id": "XL5QqtRqZCJo"
      },
      "outputs": [],
      "source": [
        "# Realiza pruebas de fundicos aquí\n",
        "dic1 = {'Pepe':[12, 'enero', 1980], 'Carolina':[15,'mayo',1975],'Paco':[10,'nov',1970]}\n",
        "dic2 = fundicos(dic1, 'Pepe', 1, 'febrero')\n",
        "\n",
        "print(dic1)\n",
        "print(dic2)"
      ]
    },
    {
      "cell_type": "markdown",
      "metadata": {
        "id": "fDRbyxm5ZCJo"
      },
      "source": [
        "### Generadores\n",
        "\n",
        "Escribe un generador que reciba una lista y genere todas las permutaciones que se puedan hacer con los elementos de la lista"
      ]
    },
    {
      "cell_type": "code",
      "execution_count": null,
      "metadata": {
        "id": "XJ9K4mYcZCJo"
      },
      "outputs": [],
      "source": [
        "# Escribe aqui fun1\n",
        "\n",
        "def permutaciones(lista):\n",
        "    \"\"\"\n",
        "    Permutaciones de los elementos de una lista.\n",
        "\n",
        "    Devuelve un generador con todas las permutaciones posibles de los elementos de la lista de entrada\n",
        "    \"\"\"\n",
        "    #TODO: Implementar la función"
      ]
    },
    {
      "cell_type": "code",
      "execution_count": null,
      "metadata": {
        "id": "HIGvGP5gZCJo"
      },
      "outputs": [],
      "source": [
        "# Realiza pruebas de fun2 aquí\n",
        "for p in permutaciones(['a', 'b', 'c', 'd']):\n",
        "    print(p)"
      ]
    },
    {
      "cell_type": "markdown",
      "metadata": {
        "id": "6w8yqyYuZCJp"
      },
      "source": [
        "Ahora escribe una funcipn que reciba 4 digitos del 0 al 9, y devuelva una lista con todas las horas váidas que se puedan hacer con estos dígitos en forma de lista de strings con la forma `\"HH:MM\"`."
      ]
    },
    {
      "cell_type": "code",
      "execution_count": null,
      "metadata": {
        "id": "AwGH7J0sZCJp"
      },
      "outputs": [],
      "source": [
        "def horas_validas(lista):\n",
        "    \"\"\"\n",
        "    Docstring a comentar correctamente\n",
        "    \"\"\"\n",
        "    #TODO: Implementar la función"
      ]
    },
    {
      "cell_type": "markdown",
      "metadata": {
        "id": "I_9yBqXhZCJp"
      },
      "source": [
        "Validando:"
      ]
    },
    {
      "cell_type": "code",
      "execution_count": null,
      "metadata": {
        "id": "fzJqngEgZCJp"
      },
      "outputs": [],
      "source": [
        "print(horas_validas([1,2,3,4]))"
      ]
    },
    {
      "cell_type": "markdown",
      "metadata": {
        "id": "T_lwDS4GZCJq"
      },
      "source": [
        "Escribe una función, lo más compacta posible, que escoja entre los 3 patrones ascii a continuación, e imprima en pantalla\n",
        "el deseado, pero de dimensión $n$ ($n \\ge 4$), toma en cuanta que para algunos valores de $n$ habrá\n",
        "algún(os) patrones que no se puedan hacer.\n",
        "\n",
        "```\n",
        "          *             ++++           oooooooo\n",
        "          **            ++++           ooo  ooo\n",
        "          ***           ++++           oo    oo\n",
        "          ****          ++++           o      o\n",
        "          *****             ++++       o      o\n",
        "          ******            ++++       oo    oo\n",
        "          *******           ++++       ooo  ooo\n",
        "          ********          ++++       oooooooo\n",
        "\n",
        "```"
      ]
    },
    {
      "cell_type": "code",
      "execution_count": null,
      "metadata": {
        "id": "fPb7YKF5ZCJq"
      },
      "outputs": [],
      "source": [
        "# Escribe aquí la función"
      ]
    },
    {
      "cell_type": "code",
      "execution_count": null,
      "metadata": {
        "id": "kc3yukRSZCJq"
      },
      "outputs": [],
      "source": [
        "#Realiza pruebas aquí\n"
      ]
    },
    {
      "cell_type": "markdown",
      "metadata": {
        "id": "rLjFhQn5ZCJq"
      },
      "source": [
        "### Clases y objetos\n",
        "\n",
        "Diseña una clase Matriz con las siguientes características:\n",
        "\n",
        "1. Como inicialización de un objeto es necesario conocer $n$, $m$ y tipo. En caso de no proporcionar $m$ la matriz se asume cuadrada de $n \\times n$. En caso de no proporcionar $n$ la matriz tendrá una dimensión de $1 \\times 1$.\n",
        "2. De no especificarse todos los elementos se inicializan a 0, a menos que exista un tipo especial ( `unos` o `diag` por el momento).\n",
        "3. Implementa con sobrecarga la suma de matrices, la multiplicación de matrices y la multiplicación por un escalar.\n",
        "4. Implementa como métodos eliminar columna y eliminar fila.   \n",
        "5. Programa la representación visual de la matriz.\n",
        "6. Ten en cuenta tambien el manejo de errores.\n",
        "\n",
        "\n",
        "Ejemplo de uso:\n",
        "\n",
        "```\n",
        ">>> A = Matriz(n=3, m=4)\n",
        "\n",
        ">>> print(A)\n",
        "0 0 0 0\n",
        "0 0 0 0\n",
        "0 0 0 0\n",
        "\n",
        ">>> A = A.quitafila(2)\n",
        "\n",
        ">>> print(A)\n",
        "0 0 0 0\n",
        "0 0 0 0\n",
        "\n",
        ">>> B = Matriz(4,4,'diag')\n",
        "\n",
        ">>> print(B)\n",
        "1 0 0 0\n",
        "0 1 0 0\n",
        "0 0 1 0\n",
        "0 0 0 1\n",
        "\n",
        ">>> C = Matriz(4,1,'unos')\n",
        "\n",
        ">>> print(C)\n",
        "1\n",
        "1\n",
        "1\n",
        "1\n",
        "\n",
        ">>> D = 3 * B * C\n",
        "\n",
        ">>> print(D)\n",
        "3\n",
        "3\n",
        "3\n",
        "3\n",
        "\n",
        ">>> E = 3 * B + C\n",
        "error \"No seas menso, si no son de la misma dimensión las matrices no se pueden sumar\"\n",
        "```"
      ]
    },
    {
      "cell_type": "code",
      "execution_count": null,
      "metadata": {
        "id": "bam_8enJZCJr"
      },
      "outputs": [],
      "source": [
        "# Desarrolla aqui la clase\n"
      ]
    },
    {
      "cell_type": "code",
      "execution_count": null,
      "metadata": {
        "id": "jU7a_LmHZCJr"
      },
      "outputs": [],
      "source": [
        "# Realiza las pruebas a la clase aquí\n",
        "\n",
        "A = Matriz(n=3, m=4)\n",
        "print('A =', A)\n",
        "\n",
        "A = A.quitafila(2)\n",
        "print('A = ', A)\n",
        "\n",
        "B = Matriz(4,4,'diag')\n",
        "print('B = ', B)\n",
        "\n",
        "C = Matriz(4,1,'unos')\n",
        "print('C =', C)\n",
        "\n",
        "D = 3 * B * C\n",
        "print('D = ', D)\n",
        "\n",
        "E = 3 * B + C\n",
        "print('E = ', E)"
      ]
    }
  ],
  "metadata": {
    "kernelspec": {
      "display_name": "ing-caract",
      "language": "python",
      "name": "python3"
    },
    "language_info": {
      "codemirror_mode": {
        "name": "ipython",
        "version": 3
      },
      "file_extension": ".py",
      "mimetype": "text/x-python",
      "name": "python",
      "nbconvert_exporter": "python",
      "pygments_lexer": "ipython3",
      "version": "3.8.13"
    },
    "orig_nbformat": 4,
    "colab": {
      "provenance": [],
      "include_colab_link": true
    }
  },
  "nbformat": 4,
  "nbformat_minor": 0
}